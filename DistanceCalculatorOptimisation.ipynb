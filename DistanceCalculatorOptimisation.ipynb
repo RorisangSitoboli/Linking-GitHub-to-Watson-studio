{
  "nbformat": 4,
  "nbformat_minor": 5,
  "metadata": {
    "kernelspec": {
      "display_name": "Python 3",
      "language": "python",
      "name": "python3"
    },
    "language_info": {
      "codemirror_mode": {
        "name": "ipython",
        "version": 3
      },
      "file_extension": ".py",
      "mimetype": "text/x-python",
      "name": "python",
      "nbconvert_exporter": "python",
      "pygments_lexer": "ipython3",
      "version": "3.8.5"
    },
    "colab": {
      "name": "DistanceCalculatorOptimisation.ipynb",
      "provenance": [],
      "collapsed_sections": [],
      "include_colab_link": true
    }
  },
  "cells": [
    {
      "cell_type": "markdown",
      "metadata": {
        "id": "view-in-github",
        "colab_type": "text"
      },
      "source": [
        "<a href=\"https://colab.research.google.com/github/RorisangSitoboli/Linking-GitHub-to-Watson-studio/blob/master/DistanceCalculatorOptimisation.ipynb\" target=\"_parent\"><img src=\"https://colab.research.google.com/assets/colab-badge.svg\" alt=\"Open In Colab\"/></a>"
      ]
    },
    {
      "cell_type": "code",
      "metadata": {
        "id": "fixed-syntax"
      },
      "source": [
        "# Import required libraries\n",
        "import math\n",
        "import numpy as np\n",
        "import numpy as np\n",
        "import pandas as pd\n",
        "import matplotlib.pyplot as plt\n",
        "import seaborn as sns\n",
        "import scipy.stats as stats\n",
        "import sklearn"
      ],
      "id": "fixed-syntax",
      "execution_count": 1,
      "outputs": []
    },
    {
      "cell_type": "code",
      "metadata": {
        "id": "dependent-saying"
      },
      "source": [
        "# Example 2D coordinates\n",
        "p = [8, 5]\n",
        "q = [3, 4]"
      ],
      "id": "dependent-saying",
      "execution_count": 2,
      "outputs": []
    },
    {
      "cell_type": "code",
      "metadata": {
        "colab": {
          "base_uri": "https://localhost:8080/",
          "height": 37
        },
        "id": "otherwise-moses",
        "outputId": "61a32c9f-d9ea-4e49-9e62-54792515311e"
      },
      "source": [
        "''' Use the Math library for quick and easy Eucliden distance calculation.\n",
        "Available only in Python 3.8 and up'''\n",
        "\n",
        "#print (math.dist(p, q))"
      ],
      "id": "otherwise-moses",
      "execution_count": 3,
      "outputs": [
        {
          "output_type": "execute_result",
          "data": {
            "application/vnd.google.colaboratory.intrinsic+json": {
              "type": "string"
            },
            "text/plain": [
              "' Use the Math library for quick and easy Eucliden distance calculation.\\nAvailable only in Python 3.8 and up'"
            ]
          },
          "metadata": {
            "tags": []
          },
          "execution_count": 3
        }
      ]
    },
    {
      "cell_type": "code",
      "metadata": {
        "id": "agreed-display"
      },
      "source": [
        "# Function that uses SciPy to calculate the shortest distance from user defined point to multiple points stored in array.\n",
        "from scipy.spatial.distance import cdist\n",
        "def shortest_distance(x, y):\n",
        "    origin_point = np.array([[x,y]])\n",
        "    target_points = np.array([[1,0], [2,3], [4,3]])\n",
        "    d = cdist(origin_point, target_points)\n",
        "    return d"
      ],
      "id": "agreed-display",
      "execution_count": 4,
      "outputs": []
    },
    {
      "cell_type": "code",
      "metadata": {
        "colab": {
          "base_uri": "https://localhost:8080/"
        },
        "id": "legendary-memorial",
        "outputId": "6b4b09a5-9fd4-4522-8e43-e58748f11213"
      },
      "source": [
        "# Shortest distance from origin of each of the target_points listed directly above.\n",
        "shortest_distance(0,0)"
      ],
      "id": "legendary-memorial",
      "execution_count": 5,
      "outputs": [
        {
          "output_type": "execute_result",
          "data": {
            "text/plain": [
              "array([[1.        , 3.60555128, 5.        ]])"
            ]
          },
          "metadata": {
            "tags": []
          },
          "execution_count": 5
        }
      ]
    },
    {
      "cell_type": "code",
      "metadata": {
        "id": "apart-alberta"
      },
      "source": [
        "# Array to store points \n",
        "a = np.array([[2., 3., 8.], [10., 4., 3.], [58., 3., 4.], [34., 2., 43.]])"
      ],
      "id": "apart-alberta",
      "execution_count": 6,
      "outputs": []
    },
    {
      "cell_type": "code",
      "metadata": {
        "id": "double-effort"
      },
      "source": [
        "# Array to store points\n",
        "b = np.array([[1, 0, 7], [2, 3, 6], [4, 3, 8]])"
      ],
      "id": "double-effort",
      "execution_count": 7,
      "outputs": []
    },
    {
      "cell_type": "code",
      "metadata": {
        "id": "several-characteristic"
      },
      "source": [
        "# Array to store points\n",
        "c = np.array([[1, 0, 0], [2, 3, 0], [4, 3, 0]])"
      ],
      "id": "several-characteristic",
      "execution_count": 8,
      "outputs": []
    },
    {
      "cell_type": "code",
      "metadata": {
        "colab": {
          "base_uri": "https://localhost:8080/"
        },
        "id": "original-criterion",
        "outputId": "a1736a78-5afb-4b0c-e7ca-a7d682b3a42b"
      },
      "source": [
        "#Use Nelder–Mead method in scipy.optimize function (large selection of optimizers to choose from). The output array is the point that minimizes the sum distance to all other points.\n",
        "from scipy.optimize import minimize\n",
        "x = [point[0] for point in a]\n",
        "y = [point[1] for point in a]\n",
        "z = [point[2] for point in a]\n",
        "\n",
        "x0 = np.array([sum(x)/len(x),sum(y)/len(y), sum(z)/len(z)])\n",
        "#User defined function.\n",
        "def dist_func(x0):\n",
        "    return sum(((np.full(len(x),x0[0])-x)**2+(np.full(len(x),x0[1])-y)**2+(np.full(len(x),x0[2])-z)**2)**(1/2))\n",
        "res = minimize(dist_func, x0, method='nelder-mead', options={'xtol': 1e-8, 'disp': True})\n",
        "res.x"
      ],
      "id": "original-criterion",
      "execution_count": 9,
      "outputs": [
        {
          "output_type": "stream",
          "text": [
            "Optimization terminated successfully.\n",
            "         Current function value: 102.856804\n",
            "         Iterations: 134\n",
            "         Function evaluations: 256\n"
          ],
          "name": "stdout"
        },
        {
          "output_type": "execute_result",
          "data": {
            "text/plain": [
              "array([12.58942487,  3.51573846,  7.28710679])"
            ]
          },
          "metadata": {
            "tags": []
          },
          "execution_count": 9
        }
      ]
    },
    {
      "cell_type": "code",
      "metadata": {
        "colab": {
          "base_uri": "https://localhost:8080/"
        },
        "id": "afraid-barbados",
        "outputId": "755f4eb3-c7a8-4fe5-bbc7-da1a8cf5d588"
      },
      "source": [
        "from scipy.optimize import minimize\n",
        "x1 = [point[0] for point in b]\n",
        "y1 = [point[1] for point in b]\n",
        "z1 = [point[2] for point in b]\n",
        "\n",
        "x0 = np.array([sum(x1)/len(x1),sum(y1)/len(y1), sum(z1)/len(z1)])\n",
        "def dist_func(x0):\n",
        "    return sum(((np.full(len(x1),x0[0])-x1)**2+(np.full(len(x1),x0[1])-y1)**2+(np.full(len(x1),x0[2])-z1)**2)**(1/2))\n",
        "res = minimize(dist_func, x0, method='nelder-mead', options={'xtol': 1e-8, 'disp': True})\n",
        "res.x"
      ],
      "id": "afraid-barbados",
      "execution_count": 10,
      "outputs": [
        {
          "output_type": "stream",
          "text": [
            "Optimization terminated successfully.\n",
            "         Current function value: 5.937009\n",
            "         Iterations: 104\n",
            "         Function evaluations: 194\n"
          ],
          "name": "stdout"
        },
        {
          "output_type": "execute_result",
          "data": {
            "text/plain": [
              "array([2.27541965, 2.42907413, 6.65603688])"
            ]
          },
          "metadata": {
            "tags": []
          },
          "execution_count": 10
        }
      ]
    },
    {
      "cell_type": "code",
      "metadata": {
        "colab": {
          "base_uri": "https://localhost:8080/"
        },
        "id": "selective-identifier",
        "outputId": "694e8276-b13c-49b5-c98c-c6aae67118f8"
      },
      "source": [
        "from scipy.optimize import minimize\n",
        "x1 = [point[0] for point in c]\n",
        "y1 = [point[1] for point in c]\n",
        "z1 = [point[2] for point in c]\n",
        "\n",
        "x0 = np.array([sum(x1)/len(x1),sum(y1)/len(y1), sum(z1)/len(z1)])\n",
        "def dist_func(x0):\n",
        "    return sum(((np.full(len(x1),x0[0])-x1)**2+(np.full(len(x1),x0[1])-y1)**2+(np.full(len(x1),x0[2])-z1)**2)**(1/2))\n",
        "res = minimize(dist_func, x0, method='nelder-mead', options={'xtol': 1e-8, 'disp': True})\n",
        "res.x"
      ],
      "id": "selective-identifier",
      "execution_count": 11,
      "outputs": [
        {
          "output_type": "stream",
          "text": [
            "Optimization terminated successfully.\n",
            "         Current function value: 5.137344\n",
            "         Iterations: 140\n",
            "         Function evaluations: 262\n"
          ],
          "name": "stdout"
        },
        {
          "output_type": "execute_result",
          "data": {
            "text/plain": [
              "array([2.17186440e+00, 2.77266102e+00, 1.22064816e-08])"
            ]
          },
          "metadata": {
            "tags": []
          },
          "execution_count": 11
        }
      ]
    }
  ]
}